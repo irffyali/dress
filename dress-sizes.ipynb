{
 "cells": [
  {
   "cell_type": "code",
   "execution_count": 1,
   "metadata": {},
   "outputs": [],
   "source": [
    "import numpy as np\n",
    "import pandas as pd \n",
    "import seaborn as sns #visualisation\n",
    "import matplotlib.pyplot as plt #visualisation"
   ]
  },
  {
   "cell_type": "markdown",
   "metadata": {},
   "source": [
    "First we will explore the data, we will do this by loading in our data to pandas. We will look at the structure of the data, for example, the data type of each column. Follwing this will be cleaning the data i.e. removing null rows or columns which are uneeded. Above are the main libraries we shall use to do this. "
   ]
  },
  {
   "cell_type": "code",
   "execution_count": 2,
   "metadata": {},
   "outputs": [
    {
     "data": {
      "text/html": [
       "<div>\n",
       "<style scoped>\n",
       "    .dataframe tbody tr th:only-of-type {\n",
       "        vertical-align: middle;\n",
       "    }\n",
       "\n",
       "    .dataframe tbody tr th {\n",
       "        vertical-align: top;\n",
       "    }\n",
       "\n",
       "    .dataframe thead th {\n",
       "        text-align: right;\n",
       "    }\n",
       "</style>\n",
       "<table border=\"1\" class=\"dataframe\">\n",
       "  <thead>\n",
       "    <tr style=\"text-align: right;\">\n",
       "      <th></th>\n",
       "      <th>Unnamed: 0</th>\n",
       "      <th>customer_id</th>\n",
       "      <th>size_womenswear</th>\n",
       "      <th>total_number_of_orders</th>\n",
       "      <th>return_rate</th>\n",
       "      <th>first_order_channel</th>\n",
       "      <th>socioeconomic_status</th>\n",
       "      <th>size_corsetry_cup</th>\n",
       "      <th>size_corsetry_briefs</th>\n",
       "      <th>size_footware</th>\n",
       "      <th>days_since_first_order</th>\n",
       "      <th>brand</th>\n",
       "      <th>age_in_years</th>\n",
       "      <th>socioeconomic_desc</th>\n",
       "      <th>order_method</th>\n",
       "    </tr>\n",
       "  </thead>\n",
       "  <tbody>\n",
       "    <tr>\n",
       "      <th>0</th>\n",
       "      <td>1</td>\n",
       "      <td>1</td>\n",
       "      <td>16</td>\n",
       "      <td>28</td>\n",
       "      <td>0.12</td>\n",
       "      <td>1</td>\n",
       "      <td>C</td>\n",
       "      <td>7</td>\n",
       "      <td>16</td>\n",
       "      <td>7</td>\n",
       "      <td>4964</td>\n",
       "      <td>Brand 1</td>\n",
       "      <td>47</td>\n",
       "      <td>Country Living</td>\n",
       "      <td>offline</td>\n",
       "    </tr>\n",
       "    <tr>\n",
       "      <th>1</th>\n",
       "      <td>2</td>\n",
       "      <td>2</td>\n",
       "      <td>20</td>\n",
       "      <td>118</td>\n",
       "      <td>0.61</td>\n",
       "      <td>2</td>\n",
       "      <td>H</td>\n",
       "      <td>3</td>\n",
       "      <td>20</td>\n",
       "      <td>6</td>\n",
       "      <td>5578</td>\n",
       "      <td>other</td>\n",
       "      <td>73</td>\n",
       "      <td>Aspiring Homemakers</td>\n",
       "      <td>online</td>\n",
       "    </tr>\n",
       "    <tr>\n",
       "      <th>2</th>\n",
       "      <td>3</td>\n",
       "      <td>3</td>\n",
       "      <td>8</td>\n",
       "      <td>125</td>\n",
       "      <td>0.04</td>\n",
       "      <td>2</td>\n",
       "      <td>F</td>\n",
       "      <td>3</td>\n",
       "      <td>12</td>\n",
       "      <td>4</td>\n",
       "      <td>4112</td>\n",
       "      <td>other</td>\n",
       "      <td>65</td>\n",
       "      <td>Suburban Stability</td>\n",
       "      <td>online</td>\n",
       "    </tr>\n",
       "    <tr>\n",
       "      <th>3</th>\n",
       "      <td>4</td>\n",
       "      <td>4</td>\n",
       "      <td>12</td>\n",
       "      <td>109</td>\n",
       "      <td>0.42</td>\n",
       "      <td>1</td>\n",
       "      <td>F</td>\n",
       "      <td>5</td>\n",
       "      <td>12</td>\n",
       "      <td>7</td>\n",
       "      <td>4261</td>\n",
       "      <td>Brand 1</td>\n",
       "      <td>69</td>\n",
       "      <td>Suburban Stability</td>\n",
       "      <td>offline</td>\n",
       "    </tr>\n",
       "    <tr>\n",
       "      <th>4</th>\n",
       "      <td>5</td>\n",
       "      <td>5</td>\n",
       "      <td>16</td>\n",
       "      <td>37</td>\n",
       "      <td>0.26</td>\n",
       "      <td>1</td>\n",
       "      <td>I</td>\n",
       "      <td>4</td>\n",
       "      <td>16</td>\n",
       "      <td>6</td>\n",
       "      <td>2432</td>\n",
       "      <td>other</td>\n",
       "      <td>62</td>\n",
       "      <td>Family Basics</td>\n",
       "      <td>offline</td>\n",
       "    </tr>\n",
       "  </tbody>\n",
       "</table>\n",
       "</div>"
      ],
      "text/plain": [
       "   Unnamed: 0  customer_id  size_womenswear  total_number_of_orders  \\\n",
       "0           1            1               16                      28   \n",
       "1           2            2               20                     118   \n",
       "2           3            3                8                     125   \n",
       "3           4            4               12                     109   \n",
       "4           5            5               16                      37   \n",
       "\n",
       "   return_rate  first_order_channel socioeconomic_status  size_corsetry_cup  \\\n",
       "0         0.12                    1                    C                  7   \n",
       "1         0.61                    2                    H                  3   \n",
       "2         0.04                    2                    F                  3   \n",
       "3         0.42                    1                    F                  5   \n",
       "4         0.26                    1                    I                  4   \n",
       "\n",
       "   size_corsetry_briefs  size_footware  days_since_first_order    brand  \\\n",
       "0                    16              7                    4964  Brand 1   \n",
       "1                    20              6                    5578    other   \n",
       "2                    12              4                    4112    other   \n",
       "3                    12              7                    4261  Brand 1   \n",
       "4                    16              6                    2432    other   \n",
       "\n",
       "   age_in_years   socioeconomic_desc order_method  \n",
       "0            47       Country Living      offline  \n",
       "1            73  Aspiring Homemakers       online  \n",
       "2            65   Suburban Stability       online  \n",
       "3            69   Suburban Stability      offline  \n",
       "4            62        Family Basics      offline  "
      ]
     },
     "execution_count": 2,
     "metadata": {},
     "output_type": "execute_result"
    }
   ],
   "source": [
    "#reading in our training data\n",
    "train = pd.read_csv(\"uc_data_train.csv\") \n",
    "train.head(5) #diplaying the top 5 rows"
   ]
  },
  {
   "cell_type": "code",
   "execution_count": 3,
   "metadata": {
    "scrolled": true
   },
   "outputs": [
    {
     "data": {
      "text/plain": [
       "Unnamed: 0                  int64\n",
       "customer_id                 int64\n",
       "size_womenswear             int64\n",
       "total_number_of_orders      int64\n",
       "return_rate               float64\n",
       "first_order_channel         int64\n",
       "socioeconomic_status       object\n",
       "size_corsetry_cup           int64\n",
       "size_corsetry_briefs        int64\n",
       "size_footware               int64\n",
       "days_since_first_order      int64\n",
       "brand                      object\n",
       "age_in_years                int64\n",
       "socioeconomic_desc         object\n",
       "order_method               object\n",
       "dtype: object"
      ]
     },
     "execution_count": 3,
     "metadata": {},
     "output_type": "execute_result"
    }
   ],
   "source": [
    "#checking datatypes\n",
    "train.dtypes"
   ]
  },
  {
   "cell_type": "markdown",
   "metadata": {},
   "source": [
    "at this point we will only drop the customer_id column and try to learn what we can from the dataset."
   ]
  },
  {
   "cell_type": "code",
   "execution_count": 4,
   "metadata": {},
   "outputs": [],
   "source": [
    "train = train.drop('customer_id', axis = 1)"
   ]
  },
  {
   "cell_type": "markdown",
   "metadata": {},
   "source": [
    "Next we will look for any duplicate rows in our dataset and remove these rows. "
   ]
  },
  {
   "cell_type": "code",
   "execution_count": 5,
   "metadata": {},
   "outputs": [
    {
     "name": "stdout",
     "output_type": "stream",
     "text": [
      "(80001, 14)\n",
      "number of duplicate rows: (0, 14)\n"
     ]
    }
   ],
   "source": [
    "print(train.shape) #checking number of rows and columns in the dataset\n",
    "duplicate_rows_df = train[train.duplicated()] \n",
    "print('number of duplicate rows:', duplicate_rows_df.shape) #checking for duplicate rows and outputting them"
   ]
  },
  {
   "cell_type": "markdown",
   "metadata": {},
   "source": [
    "We can see that there are no duplicates rows to be removed in our data, the next check is to check for null  values in our data, these rows, if any, will also be removed from the data. "
   ]
  },
  {
   "cell_type": "code",
   "execution_count": 6,
   "metadata": {},
   "outputs": [
    {
     "name": "stdout",
     "output_type": "stream",
     "text": [
      "Unnamed: 0                0\n",
      "size_womenswear           0\n",
      "total_number_of_orders    0\n",
      "return_rate               0\n",
      "first_order_channel       0\n",
      "socioeconomic_status      0\n",
      "size_corsetry_cup         0\n",
      "size_corsetry_briefs      0\n",
      "size_footware             0\n",
      "days_since_first_order    0\n",
      "brand                     0\n",
      "age_in_years              0\n",
      "socioeconomic_desc        0\n",
      "order_method              0\n",
      "dtype: int64\n"
     ]
    }
   ],
   "source": [
    "print(train.isnull().sum()) #print number of null values in each column"
   ]
  },
  {
   "cell_type": "markdown",
   "metadata": {},
   "source": [
    "there are no null values in any of our data, we will proceed to analysis, first I want to check the most common sizes in our dataset."
   ]
  },
  {
   "cell_type": "code",
   "execution_count": 7,
   "metadata": {},
   "outputs": [
    {
     "data": {
      "image/png": "[encoded data removed]",
      "text/plain": [
       "<Figure size 576x432 with 1 Axes>"
      ]
     },
     "metadata": {
      "needs_background": "light"
     },
     "output_type": "display_data"
    }
   ],
   "source": [
    "f, ax = plt.subplots(figsize=(8, 6))\n",
    "ax = sns.countplot(x =train[\"size_womenswear\"])\n",
    "plt.show()"
   ]
  },
  {
   "cell_type": "code",
   "execution_count": 8,
   "metadata": {},
   "outputs": [
    {
     "data": {
      "text/plain": [
       "16    24825\n",
       "20    22604\n",
       "24    13211\n",
       "12    11476\n",
       "28     5196\n",
       "32     1758\n",
       "8       920\n",
       "36       11\n",
       "Name: size_womenswear, dtype: int64"
      ]
     },
     "execution_count": 8,
     "metadata": {},
     "output_type": "execute_result"
    }
   ],
   "source": [
    "train['size_womenswear'].value_counts()"
   ]
  },
  {
   "cell_type": "markdown",
   "metadata": {},
   "source": [
    "we can clerarly see that the most common sizes bought are, by some distance, size 16 and size 20, this gives some insight into what sizes customers are most likely to buy. Another key insight is the customer age demographic, we can generate insights into this by a distribution plot"
   ]
  },
  {
   "cell_type": "code",
   "execution_count": 9,
   "metadata": {},
   "outputs": [
    {
     "data": {
      "image/png": "[encoded data removed]",
      "text/plain": [
       "<Figure size 576x432 with 1 Axes>"
      ]
     },
     "metadata": {
      "needs_background": "light"
     },
     "output_type": "display_data"
    }
   ],
   "source": [
    "f, ax = plt.subplots(figsize=(8, 6))\n",
    "ax = sns.distplot(train[\"age_in_years\"], bins = 10)\n",
    "plt.show()"
   ]
  },
  {
   "cell_type": "markdown",
   "metadata": {},
   "source": [
    "from our distibution we can see that the most common age group is 50-60 year olds. Followed closely by 60-70 yr olds. "
   ]
  },
  {
   "cell_type": "markdown",
   "metadata": {},
   "source": [
    "we can also find out on which platoform our customers are most likely to purchase their items"
   ]
  },
  {
   "cell_type": "code",
   "execution_count": 10,
   "metadata": {
    "scrolled": true
   },
   "outputs": [
    {
     "data": {
      "image/png": "[encoded data removed]",
      "text/plain": [
       "<Figure size 576x432 with 1 Axes>"
      ]
     },
     "metadata": {
      "needs_background": "light"
     },
     "output_type": "display_data"
    }
   ],
   "source": [
    "f, ax = plt.subplots(figsize=(8, 6))\n",
    "ax = sns.countplot(x =train[\"order_method\"])\n",
    "plt.show()"
   ]
  },
  {
   "cell_type": "markdown",
   "metadata": {},
   "source": [
    "we can clearly see that customers are significantly more likely to purchase online as opposed to offline. the final insight before we start looking at relationships between variables is socioecnomic status, which shows us which socioecnomic group is most likely to purchase clothing. "
   ]
  },
  {
   "cell_type": "code",
   "execution_count": 11,
   "metadata": {},
   "outputs": [
    {
     "data": {
      "image/png": "[encoded data removed]",
      "text/plain": [
       "<Figure size 576x432 with 1 Axes>"
      ]
     },
     "metadata": {
      "needs_background": "light"
     },
     "output_type": "display_data"
    }
   ],
   "source": [
    "f, ax = plt.subplots(figsize=(8, 6))\n",
    "ax = sns.countplot(x =train[\"socioeconomic_status\"])\n",
    "plt.show()\n"
   ]
  },
  {
   "cell_type": "code",
   "execution_count": 12,
   "metadata": {
    "scrolled": false
   },
   "outputs": [
    {
     "name": "stdout",
     "output_type": "stream",
     "text": [
      "{'C': ['Country Living'], 'H': ['Aspiring Homemakers'], 'F': ['Suburban Stability'], 'I': ['Family Basics'], 'M': ['Modest Traditions'], 'G': ['Domestic Success'], 'E': ['Senior Security'], 'L': ['Vintage Value'], 'D': ['Rural Reality'], 'J': ['Transient Renters'], 'K': ['Municipal Challenge'], 'O': ['Rental Hubs'], 'B': ['Prestige Positions'], 'N': ['Urban Cohesion'], 'A': ['City Prosperity'], 'U': ['Unclassified']}\n"
     ]
    }
   ],
   "source": [
    "dictionary = {}\n",
    "for index, row in train.iterrows():\n",
    "            dictionary[row['socioeconomic_status']] = [row['socioeconomic_desc']]\n",
    "print(dictionary) #finding which letter represents what demogrpahic"
   ]
  },
  {
   "cell_type": "markdown",
   "metadata": {},
   "source": [
    "We can see that the most likely demographics of purchasers are 'family basics' and 'aspiring homemakers'. "
   ]
  },
  {
   "cell_type": "code",
   "execution_count": null,
   "metadata": {},
   "outputs": [],
   "source": []
  },
  {
   "cell_type": "markdown",
   "metadata": {},
   "source": [
    "since we have important variables represented as letters, we will tranform these into numbers and begin to find correlations in our data."
   ]
  },
  {
   "cell_type": "code",
   "execution_count": 13,
   "metadata": {},
   "outputs": [
    {
     "data": {
      "text/html": [
       "<div>\n",
       "<style scoped>\n",
       "    .dataframe tbody tr th:only-of-type {\n",
       "        vertical-align: middle;\n",
       "    }\n",
       "\n",
       "    .dataframe tbody tr th {\n",
       "        vertical-align: top;\n",
       "    }\n",
       "\n",
       "    .dataframe thead th {\n",
       "        text-align: right;\n",
       "    }\n",
       "</style>\n",
       "<table border=\"1\" class=\"dataframe\">\n",
       "  <thead>\n",
       "    <tr style=\"text-align: right;\">\n",
       "      <th></th>\n",
       "      <th>Unnamed: 0</th>\n",
       "      <th>size_womenswear</th>\n",
       "      <th>total_number_of_orders</th>\n",
       "      <th>return_rate</th>\n",
       "      <th>first_order_channel</th>\n",
       "      <th>socioeconomic_status</th>\n",
       "      <th>size_corsetry_cup</th>\n",
       "      <th>size_corsetry_briefs</th>\n",
       "      <th>size_footware</th>\n",
       "      <th>days_since_first_order</th>\n",
       "      <th>brand</th>\n",
       "      <th>age_in_years</th>\n",
       "      <th>socioeconomic_desc</th>\n",
       "      <th>order_method</th>\n",
       "      <th>socioeconomic_num</th>\n",
       "    </tr>\n",
       "  </thead>\n",
       "  <tbody>\n",
       "    <tr>\n",
       "      <th>0</th>\n",
       "      <td>1</td>\n",
       "      <td>16</td>\n",
       "      <td>28</td>\n",
       "      <td>0.12</td>\n",
       "      <td>1</td>\n",
       "      <td>C</td>\n",
       "      <td>7</td>\n",
       "      <td>16</td>\n",
       "      <td>7</td>\n",
       "      <td>4964</td>\n",
       "      <td>Brand 1</td>\n",
       "      <td>47</td>\n",
       "      <td>Country Living</td>\n",
       "      <td>offline</td>\n",
       "      <td>1</td>\n",
       "    </tr>\n",
       "    <tr>\n",
       "      <th>1</th>\n",
       "      <td>2</td>\n",
       "      <td>20</td>\n",
       "      <td>118</td>\n",
       "      <td>0.61</td>\n",
       "      <td>2</td>\n",
       "      <td>H</td>\n",
       "      <td>3</td>\n",
       "      <td>20</td>\n",
       "      <td>6</td>\n",
       "      <td>5578</td>\n",
       "      <td>other</td>\n",
       "      <td>73</td>\n",
       "      <td>Aspiring Homemakers</td>\n",
       "      <td>online</td>\n",
       "      <td>2</td>\n",
       "    </tr>\n",
       "    <tr>\n",
       "      <th>2</th>\n",
       "      <td>3</td>\n",
       "      <td>8</td>\n",
       "      <td>125</td>\n",
       "      <td>0.04</td>\n",
       "      <td>2</td>\n",
       "      <td>F</td>\n",
       "      <td>3</td>\n",
       "      <td>12</td>\n",
       "      <td>4</td>\n",
       "      <td>4112</td>\n",
       "      <td>other</td>\n",
       "      <td>65</td>\n",
       "      <td>Suburban Stability</td>\n",
       "      <td>online</td>\n",
       "      <td>3</td>\n",
       "    </tr>\n",
       "    <tr>\n",
       "      <th>3</th>\n",
       "      <td>4</td>\n",
       "      <td>12</td>\n",
       "      <td>109</td>\n",
       "      <td>0.42</td>\n",
       "      <td>1</td>\n",
       "      <td>F</td>\n",
       "      <td>5</td>\n",
       "      <td>12</td>\n",
       "      <td>7</td>\n",
       "      <td>4261</td>\n",
       "      <td>Brand 1</td>\n",
       "      <td>69</td>\n",
       "      <td>Suburban Stability</td>\n",
       "      <td>offline</td>\n",
       "      <td>3</td>\n",
       "    </tr>\n",
       "    <tr>\n",
       "      <th>4</th>\n",
       "      <td>5</td>\n",
       "      <td>16</td>\n",
       "      <td>37</td>\n",
       "      <td>0.26</td>\n",
       "      <td>1</td>\n",
       "      <td>I</td>\n",
       "      <td>4</td>\n",
       "      <td>16</td>\n",
       "      <td>6</td>\n",
       "      <td>2432</td>\n",
       "      <td>other</td>\n",
       "      <td>62</td>\n",
       "      <td>Family Basics</td>\n",
       "      <td>offline</td>\n",
       "      <td>4</td>\n",
       "    </tr>\n",
       "  </tbody>\n",
       "</table>\n",
       "</div>"
      ],
      "text/plain": [
       "   Unnamed: 0  size_womenswear  total_number_of_orders  return_rate  \\\n",
       "0           1               16                      28         0.12   \n",
       "1           2               20                     118         0.61   \n",
       "2           3                8                     125         0.04   \n",
       "3           4               12                     109         0.42   \n",
       "4           5               16                      37         0.26   \n",
       "\n",
       "   first_order_channel socioeconomic_status  size_corsetry_cup  \\\n",
       "0                    1                    C                  7   \n",
       "1                    2                    H                  3   \n",
       "2                    2                    F                  3   \n",
       "3                    1                    F                  5   \n",
       "4                    1                    I                  4   \n",
       "\n",
       "   size_corsetry_briefs  size_footware  days_since_first_order    brand  \\\n",
       "0                    16              7                    4964  Brand 1   \n",
       "1                    20              6                    5578    other   \n",
       "2                    12              4                    4112    other   \n",
       "3                    12              7                    4261  Brand 1   \n",
       "4                    16              6                    2432    other   \n",
       "\n",
       "   age_in_years   socioeconomic_desc order_method  socioeconomic_num  \n",
       "0            47       Country Living      offline                  1  \n",
       "1            73  Aspiring Homemakers       online                  2  \n",
       "2            65   Suburban Stability       online                  3  \n",
       "3            69   Suburban Stability      offline                  3  \n",
       "4            62        Family Basics      offline                  4  "
      ]
     },
     "execution_count": 13,
     "metadata": {},
     "output_type": "execute_result"
    }
   ],
   "source": [
    "def condition(x):\n",
    "    if x == 'C':\n",
    "        return 1\n",
    "    elif x == 'H':\n",
    "        return 2 \n",
    "    elif x == 'F':\n",
    "        return 3 \n",
    "    elif x == 'I':\n",
    "        return 4 \n",
    "    elif x == 'M':\n",
    "        return 5 \n",
    "    elif x == 'G':\n",
    "        return 6 \n",
    "    elif x == 'E':\n",
    "        return 7\n",
    "    elif x == 'L':\n",
    "        return 8 \n",
    "    elif x == 'J':\n",
    "        return 9 \n",
    "    elif x == 'D':\n",
    "        return 10 \n",
    "    elif x == 'K':\n",
    "        return 11 \n",
    "    elif x == 'O':\n",
    "        return 12\n",
    "    elif x == 'B':\n",
    "        return 13\n",
    "    elif x == 'N':\n",
    "        return 14 \n",
    "    elif x == 'A':\n",
    "        return 15\n",
    "    elif x == 'U':\n",
    "        return 15\n",
    "train['socioeconomic_num'] = train['socioeconomic_status'].apply(condition)  \n",
    "train.head()"
   ]
  },
  {
   "cell_type": "code",
   "execution_count": 14,
   "metadata": {},
   "outputs": [
    {
     "data": {
      "image/png": "[encoded data removed]",
      "text/plain": [
       "<Figure size 1152x864 with 2 Axes>"
      ]
     },
     "metadata": {
      "needs_background": "light"
     },
     "output_type": "display_data"
    }
   ],
   "source": [
    "correlation = train.corr()\n",
    "plt.figure(figsize=(16,12))\n",
    "plt.title('Correlation Heatmap of Dataset')\n",
    "a = sns.heatmap(correlation, square=True, annot=True, fmt='.2f', linecolor='white')\n",
    "a.set_xticklabels(a.get_xticklabels(), rotation=90)\n",
    "a.set_yticklabels(a.get_yticklabels(), rotation=30)           \n",
    "plt.show()"
   ]
  },
  {
   "cell_type": "code",
   "execution_count": 15,
   "metadata": {
    "scrolled": true
   },
   "outputs": [
    {
     "data": {
      "text/plain": [
       "size_womenswear           1.000000\n",
       "size_corsetry_briefs      0.782665\n",
       "size_footware             0.297675\n",
       "size_corsetry_cup         0.138198\n",
       "days_since_first_order    0.061438\n",
       "total_number_of_orders    0.057444\n",
       "socioeconomic_num         0.006289\n",
       "Unnamed: 0                0.002310\n",
       "first_order_channel      -0.011909\n",
       "return_rate              -0.035109\n",
       "age_in_years             -0.048614\n",
       "Name: size_womenswear, dtype: float64"
      ]
     },
     "execution_count": 15,
     "metadata": {},
     "output_type": "execute_result"
    }
   ],
   "source": [
    "correlation['size_womenswear'].sort_values(ascending=False)"
   ]
  },
  {
   "cell_type": "markdown",
   "metadata": {},
   "source": [
    "From our corellation heatmap it is clear that the size of corsetry briefs has the best linear assocation with overall size. following this the size of footwear has the strongest correaltion at 0.30. So we can say that one rule in our dataset is that, genrally, larger corsetry sizes lead to larger womenswear sizes. Additonally we can see that days since last order has clear linear association with the total number of orders. Following this we wil start to look for outliers in our data which we need to remove to begin to develop our classification model. "
   ]
  },
  {
   "cell_type": "code",
   "execution_count": 16,
   "metadata": {},
   "outputs": [
    {
     "data": {
      "text/plain": [
       "<matplotlib.axes._subplots.AxesSubplot at 0x2a75daeaac8>"
      ]
     },
     "execution_count": 16,
     "metadata": {},
     "output_type": "execute_result"
    },
    {
     "data": {
      "image/png": "[encoded data removed]",
      "text/plain": [
       "<Figure size 432x288 with 1 Axes>"
      ]
     },
     "metadata": {
      "needs_background": "light"
     },
     "output_type": "display_data"
    }
   ],
   "source": [
    "sns.boxplot(x=train['size_womenswear'])"
   ]
  },
  {
   "cell_type": "code",
   "execution_count": 17,
   "metadata": {},
   "outputs": [
    {
     "data": {
      "text/plain": [
       "<matplotlib.axes._subplots.AxesSubplot at 0x2a75bea9ba8>"
      ]
     },
     "execution_count": 17,
     "metadata": {},
     "output_type": "execute_result"
    },
    {
     "data": {
      "image/png": "[encoded data removed]",
      "text/plain": [
       "<Figure size 432x288 with 1 Axes>"
      ]
     },
     "metadata": {
      "needs_background": "light"
     },
     "output_type": "display_data"
    }
   ],
   "source": [
    "sns.boxplot(x=train['age_in_years'])"
   ]
  },
  {
   "cell_type": "code",
   "execution_count": 18,
   "metadata": {},
   "outputs": [
    {
     "data": {
      "text/plain": [
       "<matplotlib.axes._subplots.AxesSubplot at 0x2a75bf06748>"
      ]
     },
     "execution_count": 18,
     "metadata": {},
     "output_type": "execute_result"
    },
    {
     "data": {
      "image/png": "[encoded data removed]",
      "text/plain": [
       "<Figure size 432x288 with 1 Axes>"
      ]
     },
     "metadata": {
      "needs_background": "light"
     },
     "output_type": "display_data"
    }
   ],
   "source": [
    "sns.boxplot(x=train['size_corsetry_briefs'])"
   ]
  },
  {
   "cell_type": "code",
   "execution_count": 19,
   "metadata": {},
   "outputs": [
    {
     "name": "stdout",
     "output_type": "stream",
     "text": [
      "Unnamed: 0                40000.00\n",
      "size_womenswear               8.00\n",
      "total_number_of_orders       59.00\n",
      "return_rate                   0.32\n",
      "first_order_channel           1.00\n",
      "size_corsetry_cup             2.00\n",
      "size_corsetry_briefs          8.00\n",
      "size_footware                 2.00\n",
      "days_since_first_order     3135.00\n",
      "age_in_years                 22.00\n",
      "socioeconomic_num             6.00\n",
      "dtype: float64\n"
     ]
    }
   ],
   "source": [
    "Q1 = train.quantile(0.25)\n",
    "Q3 = train.quantile(0.75)\n",
    "IQR = Q3 - Q1\n",
    "print(IQR)"
   ]
  },
  {
   "cell_type": "code",
   "execution_count": 20,
   "metadata": {},
   "outputs": [
    {
     "data": {
      "text/plain": [
       "(69973, 15)"
      ]
     },
     "execution_count": 20,
     "metadata": {},
     "output_type": "execute_result"
    }
   ],
   "source": [
    "train = train[~((train < (Q1-1.5 * IQR)) |(train > (Q3 + 1.5 * IQR))).any(axis=1)]\n",
    "train.shape"
   ]
  },
  {
   "cell_type": "code",
   "execution_count": 21,
   "metadata": {},
   "outputs": [
    {
     "name": "stdout",
     "output_type": "stream",
     "text": [
      "Unnamed: 0                0\n",
      "size_womenswear           0\n",
      "total_number_of_orders    0\n",
      "return_rate               0\n",
      "first_order_channel       0\n",
      "socioeconomic_status      0\n",
      "size_corsetry_cup         0\n",
      "size_corsetry_briefs      0\n",
      "size_footware             0\n",
      "days_since_first_order    0\n",
      "brand                     0\n",
      "age_in_years              0\n",
      "socioeconomic_desc        0\n",
      "order_method              0\n",
      "socioeconomic_num         0\n",
      "dtype: int64\n"
     ]
    }
   ],
   "source": [
    "print(train.isnull().sum()) "
   ]
  },
  {
   "cell_type": "markdown",
   "metadata": {},
   "source": [
    "Using box plots we can see that there are indeed outliers within our data, it is important to remove these outliers so they do not affect any models that we use since outliers are can be a major reason as to why a model is more inaccurate. The methods used here is the IQR score or the 'Interquartile Range' , box plots use this to display data. We, however, use this method to detect outliers and mathematically define a threshold outside of which data points can be considered outliers. using the formula defined in [19] we can find a numerical value for the IQR. following this in [20] this is applied to the dataframe, returning true and false values and removing outlier data. This process removed 11,000 data points in our dataset. We will now proceed to build some models to predict, the model looked at first will be a linear svm classfication due to its effectiveness in high dimensions and its ability to be used on multi class datasets (in our case this would be multiclass dress sizes)"
   ]
  },
  {
   "cell_type": "code",
   "execution_count": 22,
   "metadata": {},
   "outputs": [],
   "source": [
    "from sklearn.preprocessing import StandardScaler\n",
    "from sklearn.model_selection import train_test_split #import models to prep data for the machine learning model"
   ]
  },
  {
   "cell_type": "code",
   "execution_count": 23,
   "metadata": {},
   "outputs": [
    {
     "data": {
      "text/plain": [
       "Index(['Unnamed: 0', 'size_womenswear', 'total_number_of_orders',\n",
       "       'return_rate', 'first_order_channel', 'socioeconomic_status',\n",
       "       'size_corsetry_cup', 'size_corsetry_briefs', 'size_footware',\n",
       "       'days_since_first_order', 'brand', 'age_in_years', 'socioeconomic_desc',\n",
       "       'order_method', 'socioeconomic_num'],\n",
       "      dtype='object')"
      ]
     },
     "execution_count": 23,
     "metadata": {},
     "output_type": "execute_result"
    }
   ],
   "source": [
    "train.columns"
   ]
  },
  {
   "cell_type": "code",
   "execution_count": 24,
   "metadata": {},
   "outputs": [
    {
     "data": {
      "text/html": [
       "<div>\n",
       "<style scoped>\n",
       "    .dataframe tbody tr th:only-of-type {\n",
       "        vertical-align: middle;\n",
       "    }\n",
       "\n",
       "    .dataframe tbody tr th {\n",
       "        vertical-align: top;\n",
       "    }\n",
       "\n",
       "    .dataframe thead th {\n",
       "        text-align: right;\n",
       "    }\n",
       "</style>\n",
       "<table border=\"1\" class=\"dataframe\">\n",
       "  <thead>\n",
       "    <tr style=\"text-align: right;\">\n",
       "      <th></th>\n",
       "      <th>Unnamed: 0</th>\n",
       "      <th>size_womenswear</th>\n",
       "      <th>total_number_of_orders</th>\n",
       "      <th>return_rate</th>\n",
       "      <th>first_order_channel</th>\n",
       "      <th>socioeconomic_status</th>\n",
       "      <th>size_corsetry_cup</th>\n",
       "      <th>size_corsetry_briefs</th>\n",
       "      <th>size_footware</th>\n",
       "      <th>days_since_first_order</th>\n",
       "      <th>brand</th>\n",
       "      <th>age_in_years</th>\n",
       "      <th>socioeconomic_desc</th>\n",
       "      <th>order_method</th>\n",
       "      <th>socioeconomic_num</th>\n",
       "    </tr>\n",
       "  </thead>\n",
       "  <tbody>\n",
       "    <tr>\n",
       "      <th>0</th>\n",
       "      <td>1</td>\n",
       "      <td>16</td>\n",
       "      <td>28</td>\n",
       "      <td>0.12</td>\n",
       "      <td>1</td>\n",
       "      <td>C</td>\n",
       "      <td>7</td>\n",
       "      <td>16</td>\n",
       "      <td>7</td>\n",
       "      <td>4964</td>\n",
       "      <td>Brand 1</td>\n",
       "      <td>47</td>\n",
       "      <td>Country Living</td>\n",
       "      <td>offline</td>\n",
       "      <td>1</td>\n",
       "    </tr>\n",
       "    <tr>\n",
       "      <th>1</th>\n",
       "      <td>2</td>\n",
       "      <td>20</td>\n",
       "      <td>118</td>\n",
       "      <td>0.61</td>\n",
       "      <td>2</td>\n",
       "      <td>H</td>\n",
       "      <td>3</td>\n",
       "      <td>20</td>\n",
       "      <td>6</td>\n",
       "      <td>5578</td>\n",
       "      <td>other</td>\n",
       "      <td>73</td>\n",
       "      <td>Aspiring Homemakers</td>\n",
       "      <td>online</td>\n",
       "      <td>2</td>\n",
       "    </tr>\n",
       "    <tr>\n",
       "      <th>2</th>\n",
       "      <td>3</td>\n",
       "      <td>8</td>\n",
       "      <td>125</td>\n",
       "      <td>0.04</td>\n",
       "      <td>2</td>\n",
       "      <td>F</td>\n",
       "      <td>3</td>\n",
       "      <td>12</td>\n",
       "      <td>4</td>\n",
       "      <td>4112</td>\n",
       "      <td>other</td>\n",
       "      <td>65</td>\n",
       "      <td>Suburban Stability</td>\n",
       "      <td>online</td>\n",
       "      <td>3</td>\n",
       "    </tr>\n",
       "    <tr>\n",
       "      <th>3</th>\n",
       "      <td>4</td>\n",
       "      <td>12</td>\n",
       "      <td>109</td>\n",
       "      <td>0.42</td>\n",
       "      <td>1</td>\n",
       "      <td>F</td>\n",
       "      <td>5</td>\n",
       "      <td>12</td>\n",
       "      <td>7</td>\n",
       "      <td>4261</td>\n",
       "      <td>Brand 1</td>\n",
       "      <td>69</td>\n",
       "      <td>Suburban Stability</td>\n",
       "      <td>offline</td>\n",
       "      <td>3</td>\n",
       "    </tr>\n",
       "    <tr>\n",
       "      <th>4</th>\n",
       "      <td>5</td>\n",
       "      <td>16</td>\n",
       "      <td>37</td>\n",
       "      <td>0.26</td>\n",
       "      <td>1</td>\n",
       "      <td>I</td>\n",
       "      <td>4</td>\n",
       "      <td>16</td>\n",
       "      <td>6</td>\n",
       "      <td>2432</td>\n",
       "      <td>other</td>\n",
       "      <td>62</td>\n",
       "      <td>Family Basics</td>\n",
       "      <td>offline</td>\n",
       "      <td>4</td>\n",
       "    </tr>\n",
       "  </tbody>\n",
       "</table>\n",
       "</div>"
      ],
      "text/plain": [
       "   Unnamed: 0  size_womenswear  total_number_of_orders  return_rate  \\\n",
       "0           1               16                      28         0.12   \n",
       "1           2               20                     118         0.61   \n",
       "2           3                8                     125         0.04   \n",
       "3           4               12                     109         0.42   \n",
       "4           5               16                      37         0.26   \n",
       "\n",
       "   first_order_channel socioeconomic_status  size_corsetry_cup  \\\n",
       "0                    1                    C                  7   \n",
       "1                    2                    H                  3   \n",
       "2                    2                    F                  3   \n",
       "3                    1                    F                  5   \n",
       "4                    1                    I                  4   \n",
       "\n",
       "   size_corsetry_briefs  size_footware  days_since_first_order    brand  \\\n",
       "0                    16              7                    4964  Brand 1   \n",
       "1                    20              6                    5578    other   \n",
       "2                    12              4                    4112    other   \n",
       "3                    12              7                    4261  Brand 1   \n",
       "4                    16              6                    2432    other   \n",
       "\n",
       "   age_in_years   socioeconomic_desc order_method  socioeconomic_num  \n",
       "0            47       Country Living      offline                  1  \n",
       "1            73  Aspiring Homemakers       online                  2  \n",
       "2            65   Suburban Stability       online                  3  \n",
       "3            69   Suburban Stability      offline                  3  \n",
       "4            62        Family Basics      offline                  4  "
      ]
     },
     "execution_count": 24,
     "metadata": {},
     "output_type": "execute_result"
    }
   ],
   "source": [
    "train.head()"
   ]
  },
  {
   "cell_type": "code",
   "execution_count": 25,
   "metadata": {},
   "outputs": [],
   "source": [
    "train  = train.drop('Unnamed: 0', axis = 1)"
   ]
  },
  {
   "cell_type": "code",
   "execution_count": 26,
   "metadata": {},
   "outputs": [
    {
     "data": {
      "text/html": [
       "<div>\n",
       "<style scoped>\n",
       "    .dataframe tbody tr th:only-of-type {\n",
       "        vertical-align: middle;\n",
       "    }\n",
       "\n",
       "    .dataframe tbody tr th {\n",
       "        vertical-align: top;\n",
       "    }\n",
       "\n",
       "    .dataframe thead th {\n",
       "        text-align: right;\n",
       "    }\n",
       "</style>\n",
       "<table border=\"1\" class=\"dataframe\">\n",
       "  <thead>\n",
       "    <tr style=\"text-align: right;\">\n",
       "      <th></th>\n",
       "      <th>size_womenswear</th>\n",
       "      <th>total_number_of_orders</th>\n",
       "      <th>return_rate</th>\n",
       "      <th>first_order_channel</th>\n",
       "      <th>socioeconomic_status</th>\n",
       "      <th>size_corsetry_cup</th>\n",
       "      <th>size_corsetry_briefs</th>\n",
       "      <th>size_footware</th>\n",
       "      <th>days_since_first_order</th>\n",
       "      <th>brand</th>\n",
       "      <th>age_in_years</th>\n",
       "      <th>socioeconomic_desc</th>\n",
       "      <th>order_method</th>\n",
       "      <th>socioeconomic_num</th>\n",
       "    </tr>\n",
       "  </thead>\n",
       "  <tbody>\n",
       "    <tr>\n",
       "      <th>0</th>\n",
       "      <td>16</td>\n",
       "      <td>28</td>\n",
       "      <td>0.12</td>\n",
       "      <td>1</td>\n",
       "      <td>C</td>\n",
       "      <td>7</td>\n",
       "      <td>16</td>\n",
       "      <td>7</td>\n",
       "      <td>4964</td>\n",
       "      <td>Brand 1</td>\n",
       "      <td>47</td>\n",
       "      <td>Country Living</td>\n",
       "      <td>offline</td>\n",
       "      <td>1</td>\n",
       "    </tr>\n",
       "    <tr>\n",
       "      <th>1</th>\n",
       "      <td>20</td>\n",
       "      <td>118</td>\n",
       "      <td>0.61</td>\n",
       "      <td>2</td>\n",
       "      <td>H</td>\n",
       "      <td>3</td>\n",
       "      <td>20</td>\n",
       "      <td>6</td>\n",
       "      <td>5578</td>\n",
       "      <td>other</td>\n",
       "      <td>73</td>\n",
       "      <td>Aspiring Homemakers</td>\n",
       "      <td>online</td>\n",
       "      <td>2</td>\n",
       "    </tr>\n",
       "    <tr>\n",
       "      <th>2</th>\n",
       "      <td>8</td>\n",
       "      <td>125</td>\n",
       "      <td>0.04</td>\n",
       "      <td>2</td>\n",
       "      <td>F</td>\n",
       "      <td>3</td>\n",
       "      <td>12</td>\n",
       "      <td>4</td>\n",
       "      <td>4112</td>\n",
       "      <td>other</td>\n",
       "      <td>65</td>\n",
       "      <td>Suburban Stability</td>\n",
       "      <td>online</td>\n",
       "      <td>3</td>\n",
       "    </tr>\n",
       "    <tr>\n",
       "      <th>3</th>\n",
       "      <td>12</td>\n",
       "      <td>109</td>\n",
       "      <td>0.42</td>\n",
       "      <td>1</td>\n",
       "      <td>F</td>\n",
       "      <td>5</td>\n",
       "      <td>12</td>\n",
       "      <td>7</td>\n",
       "      <td>4261</td>\n",
       "      <td>Brand 1</td>\n",
       "      <td>69</td>\n",
       "      <td>Suburban Stability</td>\n",
       "      <td>offline</td>\n",
       "      <td>3</td>\n",
       "    </tr>\n",
       "    <tr>\n",
       "      <th>4</th>\n",
       "      <td>16</td>\n",
       "      <td>37</td>\n",
       "      <td>0.26</td>\n",
       "      <td>1</td>\n",
       "      <td>I</td>\n",
       "      <td>4</td>\n",
       "      <td>16</td>\n",
       "      <td>6</td>\n",
       "      <td>2432</td>\n",
       "      <td>other</td>\n",
       "      <td>62</td>\n",
       "      <td>Family Basics</td>\n",
       "      <td>offline</td>\n",
       "      <td>4</td>\n",
       "    </tr>\n",
       "  </tbody>\n",
       "</table>\n",
       "</div>"
      ],
      "text/plain": [
       "   size_womenswear  total_number_of_orders  return_rate  first_order_channel  \\\n",
       "0               16                      28         0.12                    1   \n",
       "1               20                     118         0.61                    2   \n",
       "2                8                     125         0.04                    2   \n",
       "3               12                     109         0.42                    1   \n",
       "4               16                      37         0.26                    1   \n",
       "\n",
       "  socioeconomic_status  size_corsetry_cup  size_corsetry_briefs  \\\n",
       "0                    C                  7                    16   \n",
       "1                    H                  3                    20   \n",
       "2                    F                  3                    12   \n",
       "3                    F                  5                    12   \n",
       "4                    I                  4                    16   \n",
       "\n",
       "   size_footware  days_since_first_order    brand  age_in_years  \\\n",
       "0              7                    4964  Brand 1            47   \n",
       "1              6                    5578    other            73   \n",
       "2              4                    4112    other            65   \n",
       "3              7                    4261  Brand 1            69   \n",
       "4              6                    2432    other            62   \n",
       "\n",
       "    socioeconomic_desc order_method  socioeconomic_num  \n",
       "0       Country Living      offline                  1  \n",
       "1  Aspiring Homemakers       online                  2  \n",
       "2   Suburban Stability       online                  3  \n",
       "3   Suburban Stability      offline                  3  \n",
       "4        Family Basics      offline                  4  "
      ]
     },
     "execution_count": 26,
     "metadata": {},
     "output_type": "execute_result"
    }
   ],
   "source": [
    "train.head()"
   ]
  },
  {
   "cell_type": "code",
   "execution_count": 27,
   "metadata": {},
   "outputs": [],
   "source": [
    "y = train['size_womenswear'].values #this is the target variable for the models"
   ]
  },
  {
   "cell_type": "markdown",
   "metadata": {},
   "source": [
    "Here we select our target class, which in our case would be 'size_womenswear'"
   ]
  },
  {
   "cell_type": "code",
   "execution_count": 28,
   "metadata": {},
   "outputs": [
    {
     "name": "stdout",
     "output_type": "stream",
     "text": [
      "[16 20  8 ... 16 20 16]\n"
     ]
    }
   ],
   "source": [
    "print(y)"
   ]
  },
  {
   "cell_type": "code",
   "execution_count": 29,
   "metadata": {},
   "outputs": [],
   "source": [
    "cols = ['total_number_of_orders',\n",
    "       'return_rate', 'first_order_channel', 'size_corsetry_cup', 'size_corsetry_briefs', 'size_footware',\n",
    "       'days_since_first_order', 'age_in_years', 'socioeconomic_num'] #predictor variables for our model \n",
    "x = train[cols].values\n"
   ]
  },
  {
   "cell_type": "code",
   "execution_count": 30,
   "metadata": {
    "scrolled": true
   },
   "outputs": [
    {
     "name": "stdout",
     "output_type": "stream",
     "text": [
      "[[2.800e+01 1.200e-01 1.000e+00 ... 4.964e+03 4.700e+01 1.000e+00]\n",
      " [1.180e+02 6.100e-01 2.000e+00 ... 5.578e+03 7.300e+01 2.000e+00]\n",
      " [1.250e+02 4.000e-02 2.000e+00 ... 4.112e+03 6.500e+01 3.000e+00]\n",
      " ...\n",
      " [6.100e+01 4.000e-02 2.000e+00 ... 3.127e+03 7.200e+01 2.000e+00]\n",
      " [3.600e+01 2.100e-01 2.000e+00 ... 3.144e+03 5.800e+01 4.000e+00]\n",
      " [1.700e+01 3.000e-02 1.000e+00 ... 1.581e+03 7.500e+01 5.000e+00]]\n"
     ]
    }
   ],
   "source": [
    "print(x)"
   ]
  },
  {
   "cell_type": "code",
   "execution_count": null,
   "metadata": {},
   "outputs": [],
   "source": []
  },
  {
   "cell_type": "code",
   "execution_count": 31,
   "metadata": {},
   "outputs": [],
   "source": [
    "x_train, x_test, y_train, y_test = train_test_split(x, y, test_size = 0.2, random_state = 30) #splittling data into training and testing data\n",
    "sc = StandardScaler() #transforming values into more appropriate values for out model\n",
    "x_train = sc.fit_transform(x_train)\n",
    "x_test = sc.transform(x_test)\n",
    "\n"
   ]
  },
  {
   "cell_type": "markdown",
   "metadata": {},
   "source": [
    "we use a train test split of our training data to test the accuracy of the model, since the test values will be a known set of classifications, these known classes can be a base for testing the accuracy of our predicitons."
   ]
  },
  {
   "cell_type": "code",
   "execution_count": 32,
   "metadata": {},
   "outputs": [
    {
     "data": {
      "text/plain": [
       "array([[False, False, False, ..., False, False, False],\n",
       "       [False, False, False, ..., False, False, False],\n",
       "       [False, False, False, ..., False, False, False],\n",
       "       ...,\n",
       "       [False, False, False, ..., False, False, False],\n",
       "       [False, False, False, ..., False, False, False],\n",
       "       [False, False, False, ..., False, False, False]])"
      ]
     },
     "execution_count": 32,
     "metadata": {},
     "output_type": "execute_result"
    }
   ],
   "source": [
    "np.isnan(x_train)\n",
    "np.isnan(x_test)"
   ]
  },
  {
   "cell_type": "code",
   "execution_count": 33,
   "metadata": {},
   "outputs": [
    {
     "name": "stdout",
     "output_type": "stream",
     "text": [
      "svm Accuracy: 0.6385137549124688\n",
      "[[ 106   35   12    4    5    0    2    0]\n",
      " [ 861  653  441   71   24   10   10    0]\n",
      " [ 191  182 3152  694   76   23   30   23]\n",
      " [  25   43  501 2871  473   44   34   34]\n",
      " [  11   13   67  377 1518  198   26   15]\n",
      " [   4    4   18   35  179  486   78   28]\n",
      " [   1    4    9   12   15   79  150   38]\n",
      " [   0    0    0    0    0    0    0    0]]\n",
      "              precision    recall  f1-score   support\n",
      "\n",
      "           8       0.09      0.65      0.16       164\n",
      "          12       0.70      0.32      0.43      2070\n",
      "          16       0.75      0.72      0.74      4371\n",
      "          20       0.71      0.71      0.71      4025\n",
      "          24       0.66      0.68      0.67      2225\n",
      "          28       0.58      0.58      0.58       832\n",
      "          32       0.45      0.49      0.47       308\n",
      "          36       0.00      0.00      0.00         0\n",
      "\n",
      "    accuracy                           0.64     13995\n",
      "   macro avg       0.49      0.52      0.47     13995\n",
      "weighted avg       0.69      0.64      0.65     13995\n",
      "\n"
     ]
    },
    {
     "name": "stderr",
     "output_type": "stream",
     "text": [
      "C:\\Users\\irffy\\Anaconda3\\lib\\site-packages\\sklearn\\metrics\\classification.py:1439: UndefinedMetricWarning: Recall and F-score are ill-defined and being set to 0.0 in labels with no true samples.\n",
      "  'recall', 'true', average, warn_for)\n",
      "C:\\Users\\irffy\\Anaconda3\\lib\\site-packages\\sklearn\\metrics\\classification.py:1439: UndefinedMetricWarning: Recall and F-score are ill-defined and being set to 0.0 in labels with no true samples.\n",
      "  'recall', 'true', average, warn_for)\n",
      "C:\\Users\\irffy\\Anaconda3\\lib\\site-packages\\sklearn\\metrics\\classification.py:1439: UndefinedMetricWarning: Recall and F-score are ill-defined and being set to 0.0 in labels with no true samples.\n",
      "  'recall', 'true', average, warn_for)\n"
     ]
    }
   ],
   "source": [
    "from sklearn import svm\n",
    "from sklearn import metrics\n",
    "#Create a svm Classifier\n",
    "clf = svm.SVC(kernel='linear',  class_weight = 'balanced') # Linear Kernel\n",
    "\n",
    "#Train the model using the training sets\n",
    "clf.fit(x_train, y_train)\n",
    " \n",
    "#Predict the response for test dataset\n",
    "y_pred = clf.predict(x_test)\n",
    "\n",
    "#print(confusion_matrix(y_test,y_pred))\n",
    "print(\"svm Accuracy:\",metrics.accuracy_score(y_test, y_pred))\n",
    "from sklearn.metrics import classification_report,confusion_matrix\n",
    "print(confusion_matrix(y_test,y_pred))\n",
    "\n",
    "print(classification_report(y_test,y_pred))"
   ]
  },
  {
   "cell_type": "code",
   "execution_count": null,
   "metadata": {},
   "outputs": [],
   "source": []
  },
  {
   "cell_type": "code",
   "execution_count": null,
   "metadata": {},
   "outputs": [],
   "source": []
  },
  {
   "cell_type": "markdown",
   "metadata": {},
   "source": [
    "we can see our model has a accuracy score around 65% for our svm, we will now see if we can make that better. to do this we will remove the variables which had near zero correlation with the target variable, we can deduce these in [14]. These variables do not tell us anything about a customers chosen womenswear size. We will create some new training and validation sets for our model after removing these columns. since we looking at multiclass classifications we are looking at a number of metrics these include the precision, the recall value and the F score. "
   ]
  },
  {
   "cell_type": "code",
   "execution_count": 34,
   "metadata": {},
   "outputs": [
    {
     "name": "stdout",
     "output_type": "stream",
     "text": [
      "[[ 7 16  7]\n",
      " [ 3 20  6]\n",
      " [ 3 12  4]\n",
      " ...\n",
      " [ 3 20  5]\n",
      " [ 4 20  5]\n",
      " [ 2 32  5]]\n"
     ]
    }
   ],
   "source": [
    "cols = ['size_corsetry_cup', 'size_corsetry_briefs', 'size_footware'\n",
    "] #predictor variables after removing low correlation variables\n",
    "X = train[cols].values\n",
    "print(X)"
   ]
  },
  {
   "cell_type": "code",
   "execution_count": 35,
   "metadata": {},
   "outputs": [
    {
     "name": "stdout",
     "output_type": "stream",
     "text": [
      "[16 20  8 ... 16 20 16]\n"
     ]
    }
   ],
   "source": [
    "Y = train['size_womenswear'].values\n",
    "print(Y)"
   ]
  },
  {
   "cell_type": "code",
   "execution_count": null,
   "metadata": {},
   "outputs": [],
   "source": []
  },
  {
   "cell_type": "code",
   "execution_count": 37,
   "metadata": {},
   "outputs": [
    {
     "name": "stdout",
     "output_type": "stream",
     "text": [
      "[[-0.84286153  0.18031253 -0.26587925]\n",
      " [-0.17367447  0.18031253 -0.26587925]\n",
      " [-0.17367447 -0.60591079 -0.26587925]\n",
      " ...\n",
      " [ 1.16469964 -0.60591079 -0.26587925]\n",
      " [-0.17367447 -0.60591079 -1.0006437 ]\n",
      " [-0.17367447  1.75275917  0.4688852 ]]\n"
     ]
    }
   ],
   "source": [
    "X_train, X_test, Y_train, Y_test = train_test_split(X, Y, test_size = 0.2, random_state = 42) #splittling data into training and testing data\n",
    "sc = StandardScaler() #transforming values into more appropriate values for out model\n",
    "X_train = sc.fit_transform(X_train)\n",
    "X_test = sc.transform(X_test)\n",
    "print(X_train)"
   ]
  },
  {
   "cell_type": "code",
   "execution_count": 38,
   "metadata": {},
   "outputs": [
    {
     "name": "stdout",
     "output_type": "stream",
     "text": [
      "svm Accuracy: 0.6906752411575563\n",
      "[[   0  134   16    5    1    1    2    0]\n",
      " [   0 1441  488   68   26   10    9    0]\n",
      " [   0  368 3256  710   78   30   24    0]\n",
      " [   0   81  497 2846  509   54   52    0]\n",
      " [   0   26   54  375 1526  199   24    0]\n",
      " [   0    9   20   45  177  501   62    0]\n",
      " [   0    3    6    5   11  148   96    0]\n",
      " [   0    0    0    0    0    1    1    0]]\n",
      "              precision    recall  f1-score   support\n",
      "\n",
      "           8       0.00      0.00      0.00       159\n",
      "          12       0.70      0.71      0.70      2042\n",
      "          16       0.75      0.73      0.74      4466\n",
      "          20       0.70      0.70      0.70      4039\n",
      "          24       0.66      0.69      0.67      2204\n",
      "          28       0.53      0.62      0.57       814\n",
      "          32       0.36      0.36      0.36       269\n",
      "          36       0.00      0.00      0.00         2\n",
      "\n",
      "    accuracy                           0.69     13995\n",
      "   macro avg       0.46      0.48      0.47     13995\n",
      "weighted avg       0.69      0.69      0.69     13995\n",
      "\n"
     ]
    },
    {
     "name": "stderr",
     "output_type": "stream",
     "text": [
      "C:\\Users\\irffy\\Anaconda3\\lib\\site-packages\\sklearn\\metrics\\classification.py:1437: UndefinedMetricWarning: Precision and F-score are ill-defined and being set to 0.0 in labels with no predicted samples.\n",
      "  'precision', 'predicted', average, warn_for)\n",
      "C:\\Users\\irffy\\Anaconda3\\lib\\site-packages\\sklearn\\metrics\\classification.py:1437: UndefinedMetricWarning: Precision and F-score are ill-defined and being set to 0.0 in labels with no predicted samples.\n",
      "  'precision', 'predicted', average, warn_for)\n",
      "C:\\Users\\irffy\\Anaconda3\\lib\\site-packages\\sklearn\\metrics\\classification.py:1437: UndefinedMetricWarning: Precision and F-score are ill-defined and being set to 0.0 in labels with no predicted samples.\n",
      "  'precision', 'predicted', average, warn_for)\n"
     ]
    }
   ],
   "source": [
    "clf1 = svm.SVC(kernel='linear') # Linear Kernel we set vlass weight to balanced, this is a simple technique in scikit lean when working with in=mbalanced classes in data\n",
    "\n",
    "#Train the model using the training sets\n",
    "clf1.fit(X_train, Y_train)\n",
    "\n",
    "#Predict the response for test dataset\n",
    "y_pred2 = clf1.predict(X_test)\n",
    "\n",
    "#print(confusion_matrix(y_test,y_pred))\n",
    "print(\"svm Accuracy:\",metrics.accuracy_score(Y_test, y_pred2))\n",
    "from sklearn.metrics import classification_report,confusion_matrix\n",
    "print(confusion_matrix(Y_test,y_pred2))\n",
    "\n",
    "print(classification_report(Y_test,y_pred2))"
   ]
  },
  {
   "cell_type": "code",
   "execution_count": null,
   "metadata": {},
   "outputs": [],
   "source": [
    "for i in y_pred2:\n",
    "    print(i)"
   ]
  },
  {
   "cell_type": "markdown",
   "metadata": {},
   "source": [
    "we can see that limiting the features increases the accuracy by around 6% the accuracy of our svm, another such algorithm for multiclass prediction is a KNN classifier below we will now attempt to tackle this with a knn classifer and a random forest classifier which can also be used to tackle multiclass problems. "
   ]
  },
  {
   "cell_type": "code",
   "execution_count": 39,
   "metadata": {},
   "outputs": [
    {
     "name": "stderr",
     "output_type": "stream",
     "text": [
      "C:\\Users\\irffy\\Anaconda3\\lib\\site-packages\\sklearn\\ensemble\\forest.py:245: FutureWarning: The default value of n_estimators will change from 10 in version 0.20 to 100 in 0.22.\n",
      "  \"10 in version 0.20 to 100 in 0.22.\", FutureWarning)\n"
     ]
    },
    {
     "name": "stdout",
     "output_type": "stream",
     "text": [
      "RFC Accuracy: 0.6531618435155413\n",
      "RFC Accuracy: 0.6951768488745981\n",
      "[[  27  107   17    7    1    0    0    0]\n",
      " [  12 1427  491   72   28    5    7    0]\n",
      " [   2  366 3264  714   80   19   20    1]\n",
      " [   3   79  506 2870  511   40   27    3]\n",
      " [   0   26   57  380 1529  187   25    0]\n",
      " [   0    9   26   49  180  450  100    0]\n",
      " [   0    3   13    9   13   69  162    0]\n",
      " [   0    0    0    1    0    0    1    0]]\n",
      "              precision    recall  f1-score   support\n",
      "\n",
      "           8       0.61      0.17      0.27       159\n",
      "          12       0.71      0.70      0.70      2042\n",
      "          16       0.75      0.73      0.74      4466\n",
      "          20       0.70      0.71      0.71      4039\n",
      "          24       0.65      0.69      0.67      2204\n",
      "          28       0.58      0.55      0.57       814\n",
      "          32       0.47      0.60      0.53       269\n",
      "          36       0.00      0.00      0.00         2\n",
      "\n",
      "    accuracy                           0.70     13995\n",
      "   macro avg       0.56      0.52      0.52     13995\n",
      "weighted avg       0.70      0.70      0.69     13995\n",
      "\n"
     ]
    }
   ],
   "source": [
    "# Create decision tree classifer object\n",
    "from sklearn.ensemble import RandomForestClassifier\n",
    "clf = RandomForestClassifier()\n",
    "\n",
    "# Train model\n",
    "clf.fit(x_train, y_train)\n",
    "predict = clf.predict(x_test)\n",
    "print(\"RFC Accuracy:\",metrics.accuracy_score(y_test, predict))\n",
    "clf.fit(X_train, Y_train)\n",
    "predict = clf.predict(X_test)\n",
    "print(\"RFC Accuracy:\",metrics.accuracy_score(Y_test, predict))\n",
    "from sklearn.metrics import classification_report,confusion_matrix\n",
    "print(confusion_matrix(Y_test,predict))\n",
    "\n",
    "print(classification_report(Y_test,predict))\n"
   ]
  },
  {
   "cell_type": "markdown",
   "metadata": {},
   "source": [
    "for both limited features and the full feature set we see the same results as our SVM in the KNN [40] and the random forest classifier. [39]"
   ]
  },
  {
   "cell_type": "code",
   "execution_count": 55,
   "metadata": {
    "scrolled": false
   },
   "outputs": [
    {
     "name": "stdout",
     "output_type": "stream",
     "text": [
      "knn Accuracy: 0.4783851375491247\n",
      "knn Accuracy: 0.5035369774919615\n",
      "knn Accuracy: 0.5837084673097535\n",
      "knn Accuracy: 0.6194355126831012\n",
      "knn Accuracy: 0.6330117899249732\n",
      "knn Accuracy: 0.622293676312969\n",
      "knn Accuracy: 0.6705251875669882\n",
      "knn Accuracy: 0.6745266166488031\n",
      "knn Accuracy: 0.6652375848517328\n",
      "knn Accuracy: 0.6681672025723473\n",
      "knn Accuracy: 0.6679528403001072\n",
      "knn Accuracy: 0.6672382993926402\n",
      "knn Accuracy: 0.6745266166488031\n",
      "knn Accuracy: 0.6745980707395498\n",
      "knn Accuracy: 0.6784565916398714\n",
      "knn Accuracy: 0.690961057520543\n",
      "knn Accuracy: 0.6948195784208646\n",
      "knn Accuracy: 0.6941050375133977\n",
      "knn Accuracy: 0.6947481243301179\n",
      "knn Accuracy: 0.6943193997856377\n",
      "knn Accuracy: 0.6951768488745981\n",
      "knn Accuracy: 0.6953197570560915\n",
      "knn Accuracy: 0.6953912111468381\n",
      "knn Accuracy: 0.6953197570560915\n",
      "knn Accuracy: 0.6956055734190782\n",
      "knn Accuracy: 0.6961057520543051\n",
      "knn Accuracy: 0.6943908538763844\n",
      "knn Accuracy: 0.6963915684172919\n",
      "knn Accuracy: 0.6959628438728117\n"
     ]
    }
   ],
   "source": [
    "from sklearn.neighbors import KNeighborsClassifier\n",
    "for i in range(1,30):\n",
    "    classifier = KNeighborsClassifier(n_neighbors=i)\n",
    "    classifier.fit(X_train, Y_train)\n",
    "    y_pred = classifier.predict(X_test)\n",
    "    print(\"knn Accuracy:\",metrics.accuracy_score(Y_test, y_pred))\n",
    "from sklearn.metrics import classification_report,confusion_matrix\n"
   ]
  },
  {
   "cell_type": "markdown",
   "metadata": {},
   "source": [
    "All of our classifiers get roughly a 70% accuracy when predicting, the model could be further optimised by reducing the imbalances in the classes, class U and A are disproptionately low when compared to the other classes another technique could be to use an ensemble classifier, however we currently do not have the neccassary computational power to do so. We will proceed to use the SVM to predcit the sizes in our test dataset. We will now process the test dataset"
   ]
  },
  {
   "cell_type": "code",
   "execution_count": 41,
   "metadata": {},
   "outputs": [
    {
     "data": {
      "text/html": [
       "<div>\n",
       "<style scoped>\n",
       "    .dataframe tbody tr th:only-of-type {\n",
       "        vertical-align: middle;\n",
       "    }\n",
       "\n",
       "    .dataframe tbody tr th {\n",
       "        vertical-align: top;\n",
       "    }\n",
       "\n",
       "    .dataframe thead th {\n",
       "        text-align: right;\n",
       "    }\n",
       "</style>\n",
       "<table border=\"1\" class=\"dataframe\">\n",
       "  <thead>\n",
       "    <tr style=\"text-align: right;\">\n",
       "      <th></th>\n",
       "      <th>Unnamed: 0</th>\n",
       "      <th>customer_id</th>\n",
       "      <th>total_number_of_orders</th>\n",
       "      <th>return_rate</th>\n",
       "      <th>first_order_channel</th>\n",
       "      <th>socioeconomic_status</th>\n",
       "      <th>size_corsetry_cup</th>\n",
       "      <th>size_corsetry_briefs</th>\n",
       "      <th>size_footware</th>\n",
       "      <th>days_since_first_order</th>\n",
       "      <th>brand</th>\n",
       "      <th>age_in_years</th>\n",
       "      <th>socioeconomic_desc</th>\n",
       "      <th>order_method</th>\n",
       "    </tr>\n",
       "  </thead>\n",
       "  <tbody>\n",
       "    <tr>\n",
       "      <th>0</th>\n",
       "      <td>1</td>\n",
       "      <td>7</td>\n",
       "      <td>17</td>\n",
       "      <td>0.26</td>\n",
       "      <td>2</td>\n",
       "      <td>M</td>\n",
       "      <td>4</td>\n",
       "      <td>20</td>\n",
       "      <td>6</td>\n",
       "      <td>1602</td>\n",
       "      <td>Brand 3</td>\n",
       "      <td>43</td>\n",
       "      <td>Modest Traditions</td>\n",
       "      <td>online</td>\n",
       "    </tr>\n",
       "    <tr>\n",
       "      <th>1</th>\n",
       "      <td>2</td>\n",
       "      <td>8</td>\n",
       "      <td>30</td>\n",
       "      <td>0.52</td>\n",
       "      <td>2</td>\n",
       "      <td>L</td>\n",
       "      <td>4</td>\n",
       "      <td>16</td>\n",
       "      <td>8</td>\n",
       "      <td>1809</td>\n",
       "      <td>other</td>\n",
       "      <td>47</td>\n",
       "      <td>Vintage Value</td>\n",
       "      <td>online</td>\n",
       "    </tr>\n",
       "    <tr>\n",
       "      <th>2</th>\n",
       "      <td>3</td>\n",
       "      <td>9</td>\n",
       "      <td>9</td>\n",
       "      <td>0.31</td>\n",
       "      <td>2</td>\n",
       "      <td>I</td>\n",
       "      <td>9</td>\n",
       "      <td>16</td>\n",
       "      <td>6</td>\n",
       "      <td>179</td>\n",
       "      <td>Brand 3</td>\n",
       "      <td>60</td>\n",
       "      <td>Family Basics</td>\n",
       "      <td>online</td>\n",
       "    </tr>\n",
       "    <tr>\n",
       "      <th>3</th>\n",
       "      <td>4</td>\n",
       "      <td>13</td>\n",
       "      <td>109</td>\n",
       "      <td>0.08</td>\n",
       "      <td>2</td>\n",
       "      <td>M</td>\n",
       "      <td>3</td>\n",
       "      <td>16</td>\n",
       "      <td>7</td>\n",
       "      <td>4455</td>\n",
       "      <td>other</td>\n",
       "      <td>65</td>\n",
       "      <td>Modest Traditions</td>\n",
       "      <td>online</td>\n",
       "    </tr>\n",
       "    <tr>\n",
       "      <th>4</th>\n",
       "      <td>5</td>\n",
       "      <td>24</td>\n",
       "      <td>135</td>\n",
       "      <td>0.10</td>\n",
       "      <td>2</td>\n",
       "      <td>F</td>\n",
       "      <td>3</td>\n",
       "      <td>24</td>\n",
       "      <td>6</td>\n",
       "      <td>8752</td>\n",
       "      <td>other</td>\n",
       "      <td>70</td>\n",
       "      <td>Suburban Stability</td>\n",
       "      <td>online</td>\n",
       "    </tr>\n",
       "  </tbody>\n",
       "</table>\n",
       "</div>"
      ],
      "text/plain": [
       "   Unnamed: 0  customer_id  total_number_of_orders  return_rate  \\\n",
       "0           1            7                      17         0.26   \n",
       "1           2            8                      30         0.52   \n",
       "2           3            9                       9         0.31   \n",
       "3           4           13                     109         0.08   \n",
       "4           5           24                     135         0.10   \n",
       "\n",
       "   first_order_channel socioeconomic_status  size_corsetry_cup  \\\n",
       "0                    2                    M                  4   \n",
       "1                    2                    L                  4   \n",
       "2                    2                    I                  9   \n",
       "3                    2                    M                  3   \n",
       "4                    2                    F                  3   \n",
       "\n",
       "   size_corsetry_briefs  size_footware  days_since_first_order    brand  \\\n",
       "0                    20              6                    1602  Brand 3   \n",
       "1                    16              8                    1809    other   \n",
       "2                    16              6                     179  Brand 3   \n",
       "3                    16              7                    4455    other   \n",
       "4                    24              6                    8752    other   \n",
       "\n",
       "   age_in_years  socioeconomic_desc order_method  \n",
       "0            43   Modest Traditions       online  \n",
       "1            47       Vintage Value       online  \n",
       "2            60       Family Basics       online  \n",
       "3            65   Modest Traditions       online  \n",
       "4            70  Suburban Stability       online  "
      ]
     },
     "execution_count": 41,
     "metadata": {},
     "output_type": "execute_result"
    }
   ],
   "source": [
    "test = pd.read_csv('uc_data_test.csv')\n",
    "test.head()"
   ]
  },
  {
   "cell_type": "code",
   "execution_count": 42,
   "metadata": {},
   "outputs": [],
   "source": [
    "test = test.drop(['Unnamed: 0', 'customer_id'], axis =1)\n"
   ]
  },
  {
   "cell_type": "code",
   "execution_count": 43,
   "metadata": {},
   "outputs": [
    {
     "data": {
      "text/html": [
       "<div>\n",
       "<style scoped>\n",
       "    .dataframe tbody tr th:only-of-type {\n",
       "        vertical-align: middle;\n",
       "    }\n",
       "\n",
       "    .dataframe tbody tr th {\n",
       "        vertical-align: top;\n",
       "    }\n",
       "\n",
       "    .dataframe thead th {\n",
       "        text-align: right;\n",
       "    }\n",
       "</style>\n",
       "<table border=\"1\" class=\"dataframe\">\n",
       "  <thead>\n",
       "    <tr style=\"text-align: right;\">\n",
       "      <th></th>\n",
       "      <th>total_number_of_orders</th>\n",
       "      <th>return_rate</th>\n",
       "      <th>first_order_channel</th>\n",
       "      <th>socioeconomic_status</th>\n",
       "      <th>size_corsetry_cup</th>\n",
       "      <th>size_corsetry_briefs</th>\n",
       "      <th>size_footware</th>\n",
       "      <th>days_since_first_order</th>\n",
       "      <th>brand</th>\n",
       "      <th>age_in_years</th>\n",
       "      <th>socioeconomic_desc</th>\n",
       "      <th>order_method</th>\n",
       "    </tr>\n",
       "  </thead>\n",
       "  <tbody>\n",
       "    <tr>\n",
       "      <th>0</th>\n",
       "      <td>17</td>\n",
       "      <td>0.26</td>\n",
       "      <td>2</td>\n",
       "      <td>M</td>\n",
       "      <td>4</td>\n",
       "      <td>20</td>\n",
       "      <td>6</td>\n",
       "      <td>1602</td>\n",
       "      <td>Brand 3</td>\n",
       "      <td>43</td>\n",
       "      <td>Modest Traditions</td>\n",
       "      <td>online</td>\n",
       "    </tr>\n",
       "    <tr>\n",
       "      <th>1</th>\n",
       "      <td>30</td>\n",
       "      <td>0.52</td>\n",
       "      <td>2</td>\n",
       "      <td>L</td>\n",
       "      <td>4</td>\n",
       "      <td>16</td>\n",
       "      <td>8</td>\n",
       "      <td>1809</td>\n",
       "      <td>other</td>\n",
       "      <td>47</td>\n",
       "      <td>Vintage Value</td>\n",
       "      <td>online</td>\n",
       "    </tr>\n",
       "    <tr>\n",
       "      <th>2</th>\n",
       "      <td>9</td>\n",
       "      <td>0.31</td>\n",
       "      <td>2</td>\n",
       "      <td>I</td>\n",
       "      <td>9</td>\n",
       "      <td>16</td>\n",
       "      <td>6</td>\n",
       "      <td>179</td>\n",
       "      <td>Brand 3</td>\n",
       "      <td>60</td>\n",
       "      <td>Family Basics</td>\n",
       "      <td>online</td>\n",
       "    </tr>\n",
       "    <tr>\n",
       "      <th>3</th>\n",
       "      <td>109</td>\n",
       "      <td>0.08</td>\n",
       "      <td>2</td>\n",
       "      <td>M</td>\n",
       "      <td>3</td>\n",
       "      <td>16</td>\n",
       "      <td>7</td>\n",
       "      <td>4455</td>\n",
       "      <td>other</td>\n",
       "      <td>65</td>\n",
       "      <td>Modest Traditions</td>\n",
       "      <td>online</td>\n",
       "    </tr>\n",
       "    <tr>\n",
       "      <th>4</th>\n",
       "      <td>135</td>\n",
       "      <td>0.10</td>\n",
       "      <td>2</td>\n",
       "      <td>F</td>\n",
       "      <td>3</td>\n",
       "      <td>24</td>\n",
       "      <td>6</td>\n",
       "      <td>8752</td>\n",
       "      <td>other</td>\n",
       "      <td>70</td>\n",
       "      <td>Suburban Stability</td>\n",
       "      <td>online</td>\n",
       "    </tr>\n",
       "  </tbody>\n",
       "</table>\n",
       "</div>"
      ],
      "text/plain": [
       "   total_number_of_orders  return_rate  first_order_channel  \\\n",
       "0                      17         0.26                    2   \n",
       "1                      30         0.52                    2   \n",
       "2                       9         0.31                    2   \n",
       "3                     109         0.08                    2   \n",
       "4                     135         0.10                    2   \n",
       "\n",
       "  socioeconomic_status  size_corsetry_cup  size_corsetry_briefs  \\\n",
       "0                    M                  4                    20   \n",
       "1                    L                  4                    16   \n",
       "2                    I                  9                    16   \n",
       "3                    M                  3                    16   \n",
       "4                    F                  3                    24   \n",
       "\n",
       "   size_footware  days_since_first_order    brand  age_in_years  \\\n",
       "0              6                    1602  Brand 3            43   \n",
       "1              8                    1809    other            47   \n",
       "2              6                     179  Brand 3            60   \n",
       "3              7                    4455    other            65   \n",
       "4              6                    8752    other            70   \n",
       "\n",
       "   socioeconomic_desc order_method  \n",
       "0   Modest Traditions       online  \n",
       "1       Vintage Value       online  \n",
       "2       Family Basics       online  \n",
       "3   Modest Traditions       online  \n",
       "4  Suburban Stability       online  "
      ]
     },
     "execution_count": 43,
     "metadata": {},
     "output_type": "execute_result"
    }
   ],
   "source": [
    "test.head()"
   ]
  },
  {
   "cell_type": "markdown",
   "metadata": {},
   "source": [
    "We also need to add the numerical socioeconomic status we added to our training dataframe."
   ]
  },
  {
   "cell_type": "code",
   "execution_count": 44,
   "metadata": {},
   "outputs": [
    {
     "data": {
      "text/html": [
       "<div>\n",
       "<style scoped>\n",
       "    .dataframe tbody tr th:only-of-type {\n",
       "        vertical-align: middle;\n",
       "    }\n",
       "\n",
       "    .dataframe tbody tr th {\n",
       "        vertical-align: top;\n",
       "    }\n",
       "\n",
       "    .dataframe thead th {\n",
       "        text-align: right;\n",
       "    }\n",
       "</style>\n",
       "<table border=\"1\" class=\"dataframe\">\n",
       "  <thead>\n",
       "    <tr style=\"text-align: right;\">\n",
       "      <th></th>\n",
       "      <th>total_number_of_orders</th>\n",
       "      <th>return_rate</th>\n",
       "      <th>first_order_channel</th>\n",
       "      <th>socioeconomic_status</th>\n",
       "      <th>size_corsetry_cup</th>\n",
       "      <th>size_corsetry_briefs</th>\n",
       "      <th>size_footware</th>\n",
       "      <th>days_since_first_order</th>\n",
       "      <th>brand</th>\n",
       "      <th>age_in_years</th>\n",
       "      <th>socioeconomic_desc</th>\n",
       "      <th>order_method</th>\n",
       "      <th>socioeconomic_num</th>\n",
       "    </tr>\n",
       "  </thead>\n",
       "  <tbody>\n",
       "    <tr>\n",
       "      <th>0</th>\n",
       "      <td>17</td>\n",
       "      <td>0.26</td>\n",
       "      <td>2</td>\n",
       "      <td>M</td>\n",
       "      <td>4</td>\n",
       "      <td>20</td>\n",
       "      <td>6</td>\n",
       "      <td>1602</td>\n",
       "      <td>Brand 3</td>\n",
       "      <td>43</td>\n",
       "      <td>Modest Traditions</td>\n",
       "      <td>online</td>\n",
       "      <td>5</td>\n",
       "    </tr>\n",
       "    <tr>\n",
       "      <th>1</th>\n",
       "      <td>30</td>\n",
       "      <td>0.52</td>\n",
       "      <td>2</td>\n",
       "      <td>L</td>\n",
       "      <td>4</td>\n",
       "      <td>16</td>\n",
       "      <td>8</td>\n",
       "      <td>1809</td>\n",
       "      <td>other</td>\n",
       "      <td>47</td>\n",
       "      <td>Vintage Value</td>\n",
       "      <td>online</td>\n",
       "      <td>8</td>\n",
       "    </tr>\n",
       "    <tr>\n",
       "      <th>2</th>\n",
       "      <td>9</td>\n",
       "      <td>0.31</td>\n",
       "      <td>2</td>\n",
       "      <td>I</td>\n",
       "      <td>9</td>\n",
       "      <td>16</td>\n",
       "      <td>6</td>\n",
       "      <td>179</td>\n",
       "      <td>Brand 3</td>\n",
       "      <td>60</td>\n",
       "      <td>Family Basics</td>\n",
       "      <td>online</td>\n",
       "      <td>4</td>\n",
       "    </tr>\n",
       "    <tr>\n",
       "      <th>3</th>\n",
       "      <td>109</td>\n",
       "      <td>0.08</td>\n",
       "      <td>2</td>\n",
       "      <td>M</td>\n",
       "      <td>3</td>\n",
       "      <td>16</td>\n",
       "      <td>7</td>\n",
       "      <td>4455</td>\n",
       "      <td>other</td>\n",
       "      <td>65</td>\n",
       "      <td>Modest Traditions</td>\n",
       "      <td>online</td>\n",
       "      <td>5</td>\n",
       "    </tr>\n",
       "    <tr>\n",
       "      <th>4</th>\n",
       "      <td>135</td>\n",
       "      <td>0.10</td>\n",
       "      <td>2</td>\n",
       "      <td>F</td>\n",
       "      <td>3</td>\n",
       "      <td>24</td>\n",
       "      <td>6</td>\n",
       "      <td>8752</td>\n",
       "      <td>other</td>\n",
       "      <td>70</td>\n",
       "      <td>Suburban Stability</td>\n",
       "      <td>online</td>\n",
       "      <td>3</td>\n",
       "    </tr>\n",
       "  </tbody>\n",
       "</table>\n",
       "</div>"
      ],
      "text/plain": [
       "   total_number_of_orders  return_rate  first_order_channel  \\\n",
       "0                      17         0.26                    2   \n",
       "1                      30         0.52                    2   \n",
       "2                       9         0.31                    2   \n",
       "3                     109         0.08                    2   \n",
       "4                     135         0.10                    2   \n",
       "\n",
       "  socioeconomic_status  size_corsetry_cup  size_corsetry_briefs  \\\n",
       "0                    M                  4                    20   \n",
       "1                    L                  4                    16   \n",
       "2                    I                  9                    16   \n",
       "3                    M                  3                    16   \n",
       "4                    F                  3                    24   \n",
       "\n",
       "   size_footware  days_since_first_order    brand  age_in_years  \\\n",
       "0              6                    1602  Brand 3            43   \n",
       "1              8                    1809    other            47   \n",
       "2              6                     179  Brand 3            60   \n",
       "3              7                    4455    other            65   \n",
       "4              6                    8752    other            70   \n",
       "\n",
       "   socioeconomic_desc order_method  socioeconomic_num  \n",
       "0   Modest Traditions       online                  5  \n",
       "1       Vintage Value       online                  8  \n",
       "2       Family Basics       online                  4  \n",
       "3   Modest Traditions       online                  5  \n",
       "4  Suburban Stability       online                  3  "
      ]
     },
     "execution_count": 44,
     "metadata": {},
     "output_type": "execute_result"
    }
   ],
   "source": [
    "test['socioeconomic_num'] = test['socioeconomic_status'].apply(condition)  \n",
    "test.head()"
   ]
  },
  {
   "cell_type": "code",
   "execution_count": 45,
   "metadata": {},
   "outputs": [
    {
     "name": "stdout",
     "output_type": "stream",
     "text": [
      "[[ 4 20  6]\n",
      " [ 4 16  8]\n",
      " [ 9 16  6]\n",
      " ...\n",
      " [ 8 20  9]\n",
      " [ 6 16  5]\n",
      " [ 4 28  8]]\n"
     ]
    }
   ],
   "source": [
    "#selecting our predictor variables\n",
    "cols = ['size_corsetry_cup', 'size_corsetry_briefs', 'size_footware'\n",
    "] #predictor variables after removing low correlation variables\n",
    "Xtest = test[cols].values\n",
    "print(Xtest)"
   ]
  },
  {
   "cell_type": "code",
   "execution_count": 46,
   "metadata": {},
   "outputs": [
    {
     "name": "stdout",
     "output_type": "stream",
     "text": [
      "[[-0.20444796  0.12277853 -0.28676213]\n",
      " [-0.20444796 -0.62107115  1.083434  ]\n",
      " [ 2.85691377 -0.62107115 -0.28676213]\n",
      " ...\n",
      " [ 2.24464142  0.12277853  1.76853207]\n",
      " [ 1.02009673 -0.62107115 -0.9718602 ]\n",
      " [-0.20444796  1.61047787  1.083434  ]]\n"
     ]
    }
   ],
   "source": [
    "Xtest = sc.fit_transform(Xtest)\n",
    "print(Xtest)"
   ]
  },
  {
   "cell_type": "code",
   "execution_count": 47,
   "metadata": {},
   "outputs": [],
   "source": [
    "predictedoutput = clf1.predict(Xtest) #predciting the sizes for our customers in the test dataset"
   ]
  },
  {
   "cell_type": "code",
   "execution_count": 48,
   "metadata": {},
   "outputs": [
    {
     "name": "stdout",
     "output_type": "stream",
     "text": [
      "[20 16 16 ... 20 16 28]\n"
     ]
    }
   ],
   "source": [
    "print(predictedoutput)"
   ]
  },
  {
   "cell_type": "code",
   "execution_count": null,
   "metadata": {},
   "outputs": [],
   "source": []
  },
  {
   "cell_type": "code",
   "execution_count": 56,
   "metadata": {},
   "outputs": [],
   "source": [
    "column = predictedoutput.tolist()\n"
   ]
  },
  {
   "cell_type": "code",
   "execution_count": 52,
   "metadata": {},
   "outputs": [],
   "source": [
    "test['size_predicitons'] = column"
   ]
  },
  {
   "cell_type": "code",
   "execution_count": null,
   "metadata": {},
   "outputs": [],
   "source": []
  },
  {
   "cell_type": "code",
   "execution_count": 53,
   "metadata": {},
   "outputs": [
    {
     "data": {
      "text/html": [
       "<div>\n",
       "<style scoped>\n",
       "    .dataframe tbody tr th:only-of-type {\n",
       "        vertical-align: middle;\n",
       "    }\n",
       "\n",
       "    .dataframe tbody tr th {\n",
       "        vertical-align: top;\n",
       "    }\n",
       "\n",
       "    .dataframe thead th {\n",
       "        text-align: right;\n",
       "    }\n",
       "</style>\n",
       "<table border=\"1\" class=\"dataframe\">\n",
       "  <thead>\n",
       "    <tr style=\"text-align: right;\">\n",
       "      <th></th>\n",
       "      <th>total_number_of_orders</th>\n",
       "      <th>return_rate</th>\n",
       "      <th>first_order_channel</th>\n",
       "      <th>socioeconomic_status</th>\n",
       "      <th>size_corsetry_cup</th>\n",
       "      <th>size_corsetry_briefs</th>\n",
       "      <th>size_footware</th>\n",
       "      <th>days_since_first_order</th>\n",
       "      <th>brand</th>\n",
       "      <th>age_in_years</th>\n",
       "      <th>socioeconomic_desc</th>\n",
       "      <th>order_method</th>\n",
       "      <th>socioeconomic_num</th>\n",
       "      <th>size_predicitons</th>\n",
       "    </tr>\n",
       "  </thead>\n",
       "  <tbody>\n",
       "    <tr>\n",
       "      <th>0</th>\n",
       "      <td>17</td>\n",
       "      <td>0.26</td>\n",
       "      <td>2</td>\n",
       "      <td>M</td>\n",
       "      <td>4</td>\n",
       "      <td>20</td>\n",
       "      <td>6</td>\n",
       "      <td>1602</td>\n",
       "      <td>Brand 3</td>\n",
       "      <td>43</td>\n",
       "      <td>Modest Traditions</td>\n",
       "      <td>online</td>\n",
       "      <td>5</td>\n",
       "      <td>20</td>\n",
       "    </tr>\n",
       "    <tr>\n",
       "      <th>1</th>\n",
       "      <td>30</td>\n",
       "      <td>0.52</td>\n",
       "      <td>2</td>\n",
       "      <td>L</td>\n",
       "      <td>4</td>\n",
       "      <td>16</td>\n",
       "      <td>8</td>\n",
       "      <td>1809</td>\n",
       "      <td>other</td>\n",
       "      <td>47</td>\n",
       "      <td>Vintage Value</td>\n",
       "      <td>online</td>\n",
       "      <td>8</td>\n",
       "      <td>16</td>\n",
       "    </tr>\n",
       "    <tr>\n",
       "      <th>2</th>\n",
       "      <td>9</td>\n",
       "      <td>0.31</td>\n",
       "      <td>2</td>\n",
       "      <td>I</td>\n",
       "      <td>9</td>\n",
       "      <td>16</td>\n",
       "      <td>6</td>\n",
       "      <td>179</td>\n",
       "      <td>Brand 3</td>\n",
       "      <td>60</td>\n",
       "      <td>Family Basics</td>\n",
       "      <td>online</td>\n",
       "      <td>4</td>\n",
       "      <td>16</td>\n",
       "    </tr>\n",
       "    <tr>\n",
       "      <th>3</th>\n",
       "      <td>109</td>\n",
       "      <td>0.08</td>\n",
       "      <td>2</td>\n",
       "      <td>M</td>\n",
       "      <td>3</td>\n",
       "      <td>16</td>\n",
       "      <td>7</td>\n",
       "      <td>4455</td>\n",
       "      <td>other</td>\n",
       "      <td>65</td>\n",
       "      <td>Modest Traditions</td>\n",
       "      <td>online</td>\n",
       "      <td>5</td>\n",
       "      <td>16</td>\n",
       "    </tr>\n",
       "    <tr>\n",
       "      <th>4</th>\n",
       "      <td>135</td>\n",
       "      <td>0.10</td>\n",
       "      <td>2</td>\n",
       "      <td>F</td>\n",
       "      <td>3</td>\n",
       "      <td>24</td>\n",
       "      <td>6</td>\n",
       "      <td>8752</td>\n",
       "      <td>other</td>\n",
       "      <td>70</td>\n",
       "      <td>Suburban Stability</td>\n",
       "      <td>online</td>\n",
       "      <td>3</td>\n",
       "      <td>24</td>\n",
       "    </tr>\n",
       "  </tbody>\n",
       "</table>\n",
       "</div>"
      ],
      "text/plain": [
       "   total_number_of_orders  return_rate  first_order_channel  \\\n",
       "0                      17         0.26                    2   \n",
       "1                      30         0.52                    2   \n",
       "2                       9         0.31                    2   \n",
       "3                     109         0.08                    2   \n",
       "4                     135         0.10                    2   \n",
       "\n",
       "  socioeconomic_status  size_corsetry_cup  size_corsetry_briefs  \\\n",
       "0                    M                  4                    20   \n",
       "1                    L                  4                    16   \n",
       "2                    I                  9                    16   \n",
       "3                    M                  3                    16   \n",
       "4                    F                  3                    24   \n",
       "\n",
       "   size_footware  days_since_first_order    brand  age_in_years  \\\n",
       "0              6                    1602  Brand 3            43   \n",
       "1              8                    1809    other            47   \n",
       "2              6                     179  Brand 3            60   \n",
       "3              7                    4455    other            65   \n",
       "4              6                    8752    other            70   \n",
       "\n",
       "   socioeconomic_desc order_method  socioeconomic_num  size_predicitons  \n",
       "0   Modest Traditions       online                  5                20  \n",
       "1       Vintage Value       online                  8                16  \n",
       "2       Family Basics       online                  4                16  \n",
       "3   Modest Traditions       online                  5                16  \n",
       "4  Suburban Stability       online                  3                24  "
      ]
     },
     "execution_count": 53,
     "metadata": {},
     "output_type": "execute_result"
    }
   ],
   "source": [
    "test.head()"
   ]
  },
  {
   "cell_type": "code",
   "execution_count": 54,
   "metadata": {},
   "outputs": [],
   "source": [
    "test.to_csv(r'uc_predcitons.csv')"
   ]
  },
  {
   "cell_type": "markdown",
   "metadata": {},
   "source": [
    "Summary:\n",
    "\n",
    "After first finding some simple insights in our data, i.e. age demogrphics we proceeded to begin to cleanse out data, this was primarily outlier detection since the data did not have any null values. Once this was completed we begin to train some models on the data, we identified our problem as a multiclass classifcation problem (dress sizes) the first model selected was the linear SVM (support vector machine) this is due to its effectiveness in this domain. Follwing our inital testing which led to a 63% accuracy in our model we decided to reduce the number of features in our model, we removed the features which had near zero correlation with the target variable. In the linear SVM this yielded a 6% increase in accuracy. Following this a number of other models were used which work well in multiclass problems. namely, these were random forest classification and the k nearest neighbour (knn) classifier to see if they yielded better results, this was not the case. SO we proceeded to use our inital SVM to create the final predcitons for our testing set.  "
   ]
  }
 ],
 "metadata": {
  "kernelspec": {
   "display_name": "Python 3",
   "language": "python",
   "name": "python3"
  },
  "language_info": {
   "codemirror_mode": {
    "name": "ipython",
    "version": 3
   },
   "file_extension": ".py",
   "mimetype": "text/x-python",
   "name": "python",
   "nbconvert_exporter": "python",
   "pygments_lexer": "ipython3",
   "version": "3.7.3"
  }
 },
 "nbformat": 4,
 "nbformat_minor": 2
}
